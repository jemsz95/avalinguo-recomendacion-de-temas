{
 "cells": [
  {
   "cell_type": "markdown",
   "metadata": {},
   "source": [
    "# Prediccion Extrinsica"
   ]
  },
  {
   "cell_type": "code",
   "execution_count": 53,
   "metadata": {},
   "outputs": [],
   "source": [
    "import numpy as np"
   ]
  },
  {
   "cell_type": "markdown",
   "metadata": {},
   "source": [
    "## Dataset\n",
    "\n",
    "Usamos el siguiente dataset ejemplo para mostrar la viabilidad del algoritmo de filtrado colaborativo."
   ]
  },
  {
   "cell_type": "code",
   "execution_count": 54,
   "metadata": {},
   "outputs": [],
   "source": [
    "temas = 'NAFTA,Real Madrid,Olimpiadas,Comida Mexicana,Paises de europa,Intercambios,Arte Moderna,Cocina,Musica de los 70,Moda,Avalinguo'.split(',')\n",
    "\n",
    "csv = '''1,0,0,0,1,0,0,1,0,0,0\n",
    "1,1,0,1,1,0,1,0,0,1,0\n",
    "0,0,1,0,1,0,0,0,1,0,0\n",
    "1,0,1,0,0,1,0,0,1,0,0\n",
    "0,0,0,1,0,0,1,0,0,0,1\n",
    "0,1,0,0,1,0,0,1,0,1,0'''\n",
    "\n",
    "data = np.array([list(map(float, row.split(','))) for row in csv.split('\\n')], np.float64)"
   ]
  },
  {
   "cell_type": "markdown",
   "metadata": {},
   "source": [
    "## Correlacion\n",
    "\n",
    "Podemos asumir que si dos usuarios califican similarmente las mismas frases, sus calificaciones futuras igualmente seran similares.\n",
    "\n",
    "Dado esto podemos crear una matriz de correlacion comparando sus calificaciones con la siguiente funcion:"
   ]
  },
  {
   "cell_type": "code",
   "execution_count": 55,
   "metadata": {},
   "outputs": [],
   "source": [
    "def correlation(scores):\n",
    "    n = len(scores)\n",
    "    avg = np.sum(scores,1) / np.count_nonzero(scores, 1)\n",
    "    print(\"SUM \", np.sum(scores, 1))\n",
    "    print(\"NONZERO \", np.count_nonzero(scores, 1))\n",
    "    print(\"AVG: \",avg)\n",
    "    cor = np.zeros((n,n))\n",
    "        \n",
    "    for x in range(0,n):\n",
    "        for y in range(0,n):\n",
    "            cor[x,y] = np.sum((scores[x] - avg[x]) * (scores[y] - avg[y]))\n",
    "            print(\"scores[x] \", scores[x], \" avg[x] \", avg[x], \" scores[y] \", scores[y], \" avg[y] \", avg[y])\n",
    "            print(np.sum((scores[x] - avg[x]) * (scores[y] - avg[y])))\n",
    "            cor[x,y] = cor[x,y] / np.sqrt(np.sum((scores[x] - avg[x])**2) * np.sum((scores[y] - avg[y])**2))\n",
    "    \n",
    "    return cor"
   ]
  },
  {
   "cell_type": "code",
   "execution_count": null,
   "metadata": {},
   "outputs": [],
   "source": []
  },
  {
   "cell_type": "code",
   "execution_count": 56,
   "metadata": {},
   "outputs": [],
   "source": [
    "def predict(data):\n",
    "    print(data)\n",
    "    cor = correlation(data)\n",
    "\n",
    "    n = np.zeros(np.shape(data)[1])\n",
    "\n",
    "    p = np.zeros(np.shape(data))\n",
    "\n",
    "    for i in range(0, len(data[0])):\n",
    "        for y in range(0, len(data)):\n",
    "            if data[y,i] != 0:\n",
    "                for x in range(0, len(data)):\n",
    "                    p[x,i] += data[y,i] * cor[x,y]\n",
    "                    n[i] += 1\n",
    "\n",
    "    return p / n"
   ]
  },
  {
   "cell_type": "code",
   "execution_count": 57,
   "metadata": {},
   "outputs": [],
   "source": [
    "def reccomend(data, users, remove_scored):\n",
    "    p = predict(data)\n",
    "    \n",
    "    r = np.zeros(np.shape(data)[1])\n",
    "    \n",
    "    # Remover temas ya usados\n",
    "    if remove_scored:\n",
    "        p -= np.abs(data)\n",
    "    \n",
    "    for i in users:\n",
    "        r += p[i]\n",
    "        print(\"p[i] \", p[i])\n",
    "    \n",
    "    print(np.argmax(r))\n",
    "    return np.argmax(r)"
   ]
  },
  {
   "cell_type": "code",
   "execution_count": 58,
   "metadata": {},
   "outputs": [
    {
     "name": "stdout",
     "output_type": "stream",
     "text": [
      "[[1. 0. 0. 0. 1. 0. 0. 1. 0. 0. 0.]\n",
      " [1. 1. 0. 1. 1. 0. 1. 0. 0. 1. 0.]\n",
      " [0. 0. 1. 0. 1. 0. 0. 0. 1. 0. 0.]\n",
      " [1. 0. 1. 0. 0. 1. 0. 0. 1. 0. 0.]\n",
      " [0. 0. 0. 1. 0. 0. 1. 0. 0. 0. 1.]\n",
      " [0. 1. 0. 0. 1. 0. 0. 1. 0. 1. 0.]]\n",
      "SUM  [3. 6. 3. 4. 3. 4.]\n",
      "NONZERO  [3 6 3 4 3 4]\n",
      "AVG:  [1. 1. 1. 1. 1. 1.]\n",
      "scores[x]  [1. 0. 0. 0. 1. 0. 0. 1. 0. 0. 0.]  avg[x]  1.0  scores[y]  [1. 0. 0. 0. 1. 0. 0. 1. 0. 0. 0.]  avg[y]  1.0\n",
      "8.0\n",
      "scores[x]  [1. 0. 0. 0. 1. 0. 0. 1. 0. 0. 0.]  avg[x]  1.0  scores[y]  [1. 1. 0. 1. 1. 0. 1. 0. 0. 1. 0.]  avg[y]  1.0\n",
      "4.0\n",
      "scores[x]  [1. 0. 0. 0. 1. 0. 0. 1. 0. 0. 0.]  avg[x]  1.0  scores[y]  [0. 0. 1. 0. 1. 0. 0. 0. 1. 0. 0.]  avg[y]  1.0\n",
      "6.0\n",
      "scores[x]  [1. 0. 0. 0. 1. 0. 0. 1. 0. 0. 0.]  avg[x]  1.0  scores[y]  [1. 0. 1. 0. 0. 1. 0. 0. 1. 0. 0.]  avg[y]  1.0\n",
      "5.0\n",
      "scores[x]  [1. 0. 0. 0. 1. 0. 0. 1. 0. 0. 0.]  avg[x]  1.0  scores[y]  [0. 0. 0. 1. 0. 0. 1. 0. 0. 0. 1.]  avg[y]  1.0\n",
      "5.0\n",
      "scores[x]  [1. 0. 0. 0. 1. 0. 0. 1. 0. 0. 0.]  avg[x]  1.0  scores[y]  [0. 1. 0. 0. 1. 0. 0. 1. 0. 1. 0.]  avg[y]  1.0\n",
      "6.0\n",
      "scores[x]  [1. 1. 0. 1. 1. 0. 1. 0. 0. 1. 0.]  avg[x]  1.0  scores[y]  [1. 0. 0. 0. 1. 0. 0. 1. 0. 0. 0.]  avg[y]  1.0\n",
      "4.0\n",
      "scores[x]  [1. 1. 0. 1. 1. 0. 1. 0. 0. 1. 0.]  avg[x]  1.0  scores[y]  [1. 1. 0. 1. 1. 0. 1. 0. 0. 1. 0.]  avg[y]  1.0\n",
      "5.0\n",
      "scores[x]  [1. 1. 0. 1. 1. 0. 1. 0. 0. 1. 0.]  avg[x]  1.0  scores[y]  [0. 0. 1. 0. 1. 0. 0. 0. 1. 0. 0.]  avg[y]  1.0\n",
      "3.0\n",
      "scores[x]  [1. 1. 0. 1. 1. 0. 1. 0. 0. 1. 0.]  avg[x]  1.0  scores[y]  [1. 0. 1. 0. 0. 1. 0. 0. 1. 0. 0.]  avg[y]  1.0\n",
      "2.0\n",
      "scores[x]  [1. 1. 0. 1. 1. 0. 1. 0. 0. 1. 0.]  avg[x]  1.0  scores[y]  [0. 0. 0. 1. 0. 0. 1. 0. 0. 0. 1.]  avg[y]  1.0\n",
      "4.0\n",
      "scores[x]  [1. 1. 0. 1. 1. 0. 1. 0. 0. 1. 0.]  avg[x]  1.0  scores[y]  [0. 1. 0. 0. 1. 0. 0. 1. 0. 1. 0.]  avg[y]  1.0\n",
      "4.0\n",
      "scores[x]  [0. 0. 1. 0. 1. 0. 0. 0. 1. 0. 0.]  avg[x]  1.0  scores[y]  [1. 0. 0. 0. 1. 0. 0. 1. 0. 0. 0.]  avg[y]  1.0\n",
      "6.0\n",
      "scores[x]  [0. 0. 1. 0. 1. 0. 0. 0. 1. 0. 0.]  avg[x]  1.0  scores[y]  [1. 1. 0. 1. 1. 0. 1. 0. 0. 1. 0.]  avg[y]  1.0\n",
      "3.0\n",
      "scores[x]  [0. 0. 1. 0. 1. 0. 0. 0. 1. 0. 0.]  avg[x]  1.0  scores[y]  [0. 0. 1. 0. 1. 0. 0. 0. 1. 0. 0.]  avg[y]  1.0\n",
      "8.0\n",
      "scores[x]  [0. 0. 1. 0. 1. 0. 0. 0. 1. 0. 0.]  avg[x]  1.0  scores[y]  [1. 0. 1. 0. 0. 1. 0. 0. 1. 0. 0.]  avg[y]  1.0\n",
      "6.0\n",
      "scores[x]  [0. 0. 1. 0. 1. 0. 0. 0. 1. 0. 0.]  avg[x]  1.0  scores[y]  [0. 0. 0. 1. 0. 0. 1. 0. 0. 0. 1.]  avg[y]  1.0\n",
      "5.0\n",
      "scores[x]  [0. 0. 1. 0. 1. 0. 0. 0. 1. 0. 0.]  avg[x]  1.0  scores[y]  [0. 1. 0. 0. 1. 0. 0. 1. 0. 1. 0.]  avg[y]  1.0\n",
      "5.0\n",
      "scores[x]  [1. 0. 1. 0. 0. 1. 0. 0. 1. 0. 0.]  avg[x]  1.0  scores[y]  [1. 0. 0. 0. 1. 0. 0. 1. 0. 0. 0.]  avg[y]  1.0\n",
      "5.0\n",
      "scores[x]  [1. 0. 1. 0. 0. 1. 0. 0. 1. 0. 0.]  avg[x]  1.0  scores[y]  [1. 1. 0. 1. 1. 0. 1. 0. 0. 1. 0.]  avg[y]  1.0\n",
      "2.0\n",
      "scores[x]  [1. 0. 1. 0. 0. 1. 0. 0. 1. 0. 0.]  avg[x]  1.0  scores[y]  [0. 0. 1. 0. 1. 0. 0. 0. 1. 0. 0.]  avg[y]  1.0\n",
      "6.0\n",
      "scores[x]  [1. 0. 1. 0. 0. 1. 0. 0. 1. 0. 0.]  avg[x]  1.0  scores[y]  [1. 0. 1. 0. 0. 1. 0. 0. 1. 0. 0.]  avg[y]  1.0\n",
      "7.0\n",
      "scores[x]  [1. 0. 1. 0. 0. 1. 0. 0. 1. 0. 0.]  avg[x]  1.0  scores[y]  [0. 0. 0. 1. 0. 0. 1. 0. 0. 0. 1.]  avg[y]  1.0\n",
      "4.0\n",
      "scores[x]  [1. 0. 1. 0. 0. 1. 0. 0. 1. 0. 0.]  avg[x]  1.0  scores[y]  [0. 1. 0. 0. 1. 0. 0. 1. 0. 1. 0.]  avg[y]  1.0\n",
      "3.0\n",
      "scores[x]  [0. 0. 0. 1. 0. 0. 1. 0. 0. 0. 1.]  avg[x]  1.0  scores[y]  [1. 0. 0. 0. 1. 0. 0. 1. 0. 0. 0.]  avg[y]  1.0\n",
      "5.0\n",
      "scores[x]  [0. 0. 0. 1. 0. 0. 1. 0. 0. 0. 1.]  avg[x]  1.0  scores[y]  [1. 1. 0. 1. 1. 0. 1. 0. 0. 1. 0.]  avg[y]  1.0\n",
      "4.0\n",
      "scores[x]  [0. 0. 0. 1. 0. 0. 1. 0. 0. 0. 1.]  avg[x]  1.0  scores[y]  [0. 0. 1. 0. 1. 0. 0. 0. 1. 0. 0.]  avg[y]  1.0\n",
      "5.0\n",
      "scores[x]  [0. 0. 0. 1. 0. 0. 1. 0. 0. 0. 1.]  avg[x]  1.0  scores[y]  [1. 0. 1. 0. 0. 1. 0. 0. 1. 0. 0.]  avg[y]  1.0\n",
      "4.0\n",
      "scores[x]  [0. 0. 0. 1. 0. 0. 1. 0. 0. 0. 1.]  avg[x]  1.0  scores[y]  [0. 0. 0. 1. 0. 0. 1. 0. 0. 0. 1.]  avg[y]  1.0\n",
      "8.0\n",
      "scores[x]  [0. 0. 0. 1. 0. 0. 1. 0. 0. 0. 1.]  avg[x]  1.0  scores[y]  [0. 1. 0. 0. 1. 0. 0. 1. 0. 1. 0.]  avg[y]  1.0\n",
      "4.0\n",
      "scores[x]  [0. 1. 0. 0. 1. 0. 0. 1. 0. 1. 0.]  avg[x]  1.0  scores[y]  [1. 0. 0. 0. 1. 0. 0. 1. 0. 0. 0.]  avg[y]  1.0\n",
      "6.0\n",
      "scores[x]  [0. 1. 0. 0. 1. 0. 0. 1. 0. 1. 0.]  avg[x]  1.0  scores[y]  [1. 1. 0. 1. 1. 0. 1. 0. 0. 1. 0.]  avg[y]  1.0\n",
      "4.0\n",
      "scores[x]  [0. 1. 0. 0. 1. 0. 0. 1. 0. 1. 0.]  avg[x]  1.0  scores[y]  [0. 0. 1. 0. 1. 0. 0. 0. 1. 0. 0.]  avg[y]  1.0\n",
      "5.0\n",
      "scores[x]  [0. 1. 0. 0. 1. 0. 0. 1. 0. 1. 0.]  avg[x]  1.0  scores[y]  [1. 0. 1. 0. 0. 1. 0. 0. 1. 0. 0.]  avg[y]  1.0\n",
      "3.0\n",
      "scores[x]  [0. 1. 0. 0. 1. 0. 0. 1. 0. 1. 0.]  avg[x]  1.0  scores[y]  [0. 0. 0. 1. 0. 0. 1. 0. 0. 0. 1.]  avg[y]  1.0\n",
      "4.0\n",
      "scores[x]  [0. 1. 0. 0. 1. 0. 0. 1. 0. 1. 0.]  avg[x]  1.0  scores[y]  [0. 1. 0. 0. 1. 0. 0. 1. 0. 1. 0.]  avg[y]  1.0\n",
      "7.0\n",
      "p[i]  [-0.89052682 -0.86032305  0.06770028 -0.86396204 -0.88404498  0.05634362\n",
      " -0.86396204  0.10904824  0.06770028 -0.86032305  0.10540926]\n",
      "p[i]  [ 0.11256252  0.0952079  -0.84985136  0.0916118  -0.87947939  0.13363062\n",
      "  0.0916118   0.11817943 -0.84985136  0.0952079   0.10416667]\n",
      "p[i]  [-0.88854362  0.06388609 -0.84985136  0.07271535  0.09319042 -0.83333333\n",
      "  0.07271535  0.09139371 -0.84985136  0.06388609  0.08908708]\n",
      "7\n",
      "Tema recomendado: Cocina\n"
     ]
    }
   ],
   "source": [
    "print('Tema recomendado:', temas[reccomend(data, [1,2,3], True)])"
   ]
  },
  {
   "cell_type": "code",
   "execution_count": null,
   "metadata": {},
   "outputs": [],
   "source": []
  }
 ],
 "metadata": {
  "kernelspec": {
   "display_name": "Python 3",
   "language": "python",
   "name": "python3"
  },
  "language_info": {
   "codemirror_mode": {
    "name": "ipython",
    "version": 3
   },
   "file_extension": ".py",
   "mimetype": "text/x-python",
   "name": "python",
   "nbconvert_exporter": "python",
   "pygments_lexer": "ipython3",
   "version": "3.6.0"
  }
 },
 "nbformat": 4,
 "nbformat_minor": 2
}
