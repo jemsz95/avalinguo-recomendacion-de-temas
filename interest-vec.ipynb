{
 "cells": [
  {
   "cell_type": "code",
   "execution_count": 51,
   "metadata": {},
   "outputs": [],
   "source": [
    "import requests as req\n",
    "import numpy as np\n",
    "import json\n",
    "import random"
   ]
  },
  {
   "cell_type": "code",
   "execution_count": 3,
   "metadata": {},
   "outputs": [],
   "source": [
    "class InterestsParser:\n",
    "    def __init__(self, trees):\n",
    "        self.trees = trees\n",
    "        self.count = 0\n",
    "        \n",
    "        for tree in trees:\n",
    "            self.count += _count_interests(tree)\n",
    "            \n",
    "    def parse(self, line, prop):\n",
    "        interests_vec = np.zeros(self.count)\n",
    "        interests_set = frozenset(line.split(','))\n",
    "        i_p = [0]\n",
    "        weight = 1 / len(self.trees)\n",
    "\n",
    "        for tree in self.trees:\n",
    "            _parse_interests(interests_set, tree, interests_vec, i_p, weight, prop)\n",
    "        \n",
    "        return interests_vec\n",
    "\n",
    "def _count_interests(node):\n",
    "    count = 1\n",
    "    if 'children' in node:\n",
    "        for c in node['children']:\n",
    "            count = count + _count_interests(c)\n",
    "\n",
    "    return count\n",
    "\n",
    "def _parse_interests(i_set, i_node, i_vec, i_p, weight, prop):\n",
    "    val = 0\n",
    "\n",
    "    if 'children' in i_node:\n",
    "        children = i_node[prop]\n",
    "        n_children = len(children)\n",
    "        for c in children:\n",
    "            val += _parse_interests(i_set, c, i_vec, i_p, 1 / n_children, prop)\n",
    "\n",
    "    if i_node['name'] in i_set:\n",
    "        val = 1\n",
    "\n",
    "    i_vec[i_p[0]] = val * weight\n",
    "    i_p[0] += 1\n",
    "\n",
    "    return val"
   ]
  },
  {
   "cell_type": "code",
   "execution_count": 4,
   "metadata": {},
   "outputs": [],
   "source": [
    "class Person:\n",
    "    def __init__(self, p_id, interests):\n",
    "        self.p_id = p_id\n",
    "        self.interests = interests\n",
    "        \n",
    "    def __str__(self):\n",
    "        return 'id: {0}\\ninterests: {1}'.format(self.p_id, self.interests)\n",
    "    \n",
    "    def __repr__(self):\n",
    "        return self.__str__()\n",
    "    \n",
    "def parse_person(p, interest_parser):\n",
    "    i = 0\n",
    "    num = ''\n",
    "    if len(p) < 1:\n",
    "        return None\n",
    "\n",
    "    while p[i] != ' ':\n",
    "        num = num + p[i]\n",
    "        i += 1\n",
    "\n",
    "    p_id = int(num)\n",
    "\n",
    "    while p[i] != '[':\n",
    "        i += 1\n",
    "\n",
    "    s = i + 1\n",
    "\n",
    "    while p[i] != ']':\n",
    "        i += 1\n",
    "\n",
    "    f = i\n",
    "\n",
    "    interests = interest_parser.parse(p[s:f], 'children')\n",
    "\n",
    "    return Person(p_id, interests)"
   ]
  },
  {
   "cell_type": "code",
   "execution_count": 7,
   "metadata": {},
   "outputs": [],
   "source": [
    "with open('interests-tree-nested.json') as tree:\n",
    "    interest_parser = InterestsParser(json.loads(tree.read()))\n",
    "\n",
    "with open('synthtetic_dataset.lg') as dataset_file:\n",
    "    raw_data = dataset_file.read()\n",
    "\n",
    "lines = raw_data.split('\\n')\n",
    "\n",
    "headers = lines[0:4]\n",
    "body = lines[5:-1]"
   ]
  },
  {
   "cell_type": "code",
   "execution_count": 74,
   "metadata": {},
   "outputs": [],
   "source": [
    "class Set:\n",
    "    def __init__(self):\n",
    "        self.ids= list()\n",
    "        self.vector= list()\n",
    "    def appendId(self, ID):\n",
    "        self.ids.append(ID)\n",
    "    def assignVector(self, vec):\n",
    "        self.vector= vec"
   ]
  },
  {
   "cell_type": "code",
   "execution_count": 66,
   "metadata": {},
   "outputs": [],
   "source": [
    "persons = [parse_person(p, interest_parser) for p in body]"
   ]
  },
  {
   "cell_type": "code",
   "execution_count": 67,
   "metadata": {},
   "outputs": [],
   "source": [
    "persons_sets= list()"
   ]
  },
  {
   "cell_type": "code",
   "execution_count": 76,
   "metadata": {},
   "outputs": [],
   "source": [
    "persons_indexes= list(range(len(persons)))"
   ]
  },
  {
   "cell_type": "code",
   "execution_count": 77,
   "metadata": {},
   "outputs": [],
   "source": [
    "random.shuffle(persons_indexes)"
   ]
  },
  {
   "cell_type": "code",
   "execution_count": 78,
   "metadata": {},
   "outputs": [],
   "source": [
    "for i in range(len(persons)//5):\n",
    "    persons_set= Set()\n",
    "    set_vector= np.zeros(len(persons[0].interests))\n",
    "    for i in range(5):\n",
    "        rand_index= persons_indexes.pop()\n",
    "        persons_set.appendId(persons[rand_index].p_id)\n",
    "        set_vector+= persons[rand_index].interests\n",
    "    set_vector/= 5\n",
    "    persons_set.assignVector(set_vector)\n",
    "    persons_sets.append(persons_set)"
   ]
  },
  {
   "cell_type": "code",
   "execution_count": 81,
   "metadata": {},
   "outputs": [
    {
     "data": {
      "text/plain": [
       "[6486, 7117, 4022, 420, 8578]"
      ]
     },
     "execution_count": 81,
     "metadata": {},
     "output_type": "execute_result"
    }
   ],
   "source": [
    "persons_sets[1].ids"
   ]
  },
  {
   "cell_type": "code",
   "execution_count": null,
   "metadata": {},
   "outputs": [],
   "source": []
  },
  {
   "cell_type": "code",
   "execution_count": null,
   "metadata": {},
   "outputs": [],
   "source": []
  }
 ],
 "metadata": {
  "kernelspec": {
   "display_name": "Python 3",
   "language": "python",
   "name": "python3"
  },
  "language_info": {
   "codemirror_mode": {
    "name": "ipython",
    "version": 3
   },
   "file_extension": ".py",
   "mimetype": "text/x-python",
   "name": "python",
   "nbconvert_exporter": "python",
   "pygments_lexer": "ipython3",
   "version": "3.6.0"
  }
 },
 "nbformat": 4,
 "nbformat_minor": 2
}
