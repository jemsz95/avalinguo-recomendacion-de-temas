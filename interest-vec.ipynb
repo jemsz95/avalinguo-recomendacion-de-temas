{
 "cells": [
  {
   "cell_type": "code",
   "execution_count": 2,
   "metadata": {},
   "outputs": [],
   "source": [
    "import requests as req\n",
    "import numpy as np\n",
    "import json\n",
    "import random\n",
    "from matplotlib import pyplot as plt\n",
    "from sklearn.cluster import KMeans"
   ]
  },
  {
   "cell_type": "code",
   "execution_count": 3,
   "metadata": {},
   "outputs": [],
   "source": [
    "class InterestsParser:\n",
    "    def __init__(self, trees):\n",
    "        self.trees = trees\n",
    "        self.count = 0\n",
    "        \n",
    "        for tree in trees:\n",
    "            self.count += _count_interests(tree)\n",
    "            \n",
    "    def parse(self, interests_list, prop):\n",
    "        interests_vec = np.zeros(self.count, np.float)\n",
    "        interests_set = frozenset(interests_list)\n",
    "        i_p = [0]\n",
    "        weight = 1 / len(self.trees)\n",
    "\n",
    "        for tree in self.trees:\n",
    "            _parse_interests(interests_set, tree, interests_vec, i_p, weight, prop)\n",
    "        \n",
    "        return interests_vec\n",
    "\n",
    "def _count_interests(node):\n",
    "    count = 1\n",
    "    if 'children' in node:\n",
    "        for c in node['children']:\n",
    "            count = count + _count_interests(c)\n",
    "\n",
    "    return count\n",
    "\n",
    "def _prop(i_node, prop):\n",
    "    if prop in i_node\n",
    "        return i_node[prop]\n",
    "    \n",
    "    return None\n",
    "\n",
    "def _parse_interests(i_set, i_node, i_vec, i_p, weight, prop):\n",
    "    val = 0\n",
    "    children = _prop(i_node, 'children')\n",
    "\n",
    "    if _prop(i_node, prop) in i_set:\n",
    "        val = 1\n",
    "        \n",
    "    if children is not None:\n",
    "        n_children = len(children)\n",
    "        \n",
    "        for c in children:\n",
    "            val += _parse_interests(i_set, c, i_vec, i_p, 1 / n_children, prop)\n",
    "\n",
    "    val *= weight\n",
    "    \n",
    "    i_vec[i_p[0]] = \n",
    "    i_p[0] += 1\n",
    "\n",
    "    return i_vec[i_p[0]]"
   ]
  },
  {
   "cell_type": "code",
   "execution_count": 4,
   "metadata": {},
   "outputs": [],
   "source": [
    "class Person:\n",
    "    def __init__(self, p_id, interests):\n",
    "        self.p_id = p_id\n",
    "        self.interests = interests\n",
    "        \n",
    "    def __str__(self):\n",
    "        return 'id: {0} interests: {1}'.format(self.p_id, self.interests)\n",
    "    \n",
    "    def __repr__(self):\n",
    "        return self.__str__()\n",
    "    \n",
    "def parse_person(p, interest_parser):\n",
    "    i = 0\n",
    "    num = ''\n",
    "    if len(p) < 1:\n",
    "        return None\n",
    "\n",
    "    while p[i] != ' ':\n",
    "        num = num + p[i]\n",
    "        i += 1\n",
    "\n",
    "    p_id = int(num)\n",
    "\n",
    "    while p[i] != '[':\n",
    "        i += 1\n",
    "\n",
    "    s = i + 1\n",
    "\n",
    "    while p[i] != ']':\n",
    "        i += 1\n",
    "\n",
    "    f = i\n",
    "\n",
    "    interests = interest_parser.parse(p[s:f].split(','), 'name')\n",
    "\n",
    "    return Person(p_id, interests)"
   ]
  },
  {
   "cell_type": "code",
   "execution_count": 5,
   "metadata": {},
   "outputs": [],
   "source": [
    "class Topic:\n",
    "    def __init__(self, t_id, name, interest, popularity, penalty):\n",
    "        self.t_id = t_id\n",
    "        self.name = name\n",
    "        self.interest = interest\n",
    "        self.popularity = popularity\n",
    "        self.penalty = penalty\n",
    "        \n",
    "    def __str__(self):\n",
    "        return 'id: {0} interest: {1}'.format(self.t_id, self.interest)\n",
    "    \n",
    "    def __repr__(self):\n",
    "        return self.__str__()\n",
    "    \n",
    "def parse_topics(topic_ranks, topic_interests):\n",
    "    topics = {}\n",
    "    t_id = 0\n",
    "    no_match = 0\n",
    "\n",
    "    for t, r in topic_ranks.items():\n",
    "        topics[t] = Topic(t_id, t, None, r, 0)\n",
    "        t_id += 1\n",
    "\n",
    "    for t in topic_interests:\n",
    "        kw = t['keyword']\n",
    "        if kw in topics:\n",
    "            topics[kw].interest = interest_parser.parse(t['tags'], 'id')\n",
    "        else:\n",
    "            no_match += 1\n",
    "\n",
    "    topics = list(filter(lambda x: x.interest is not None, topics.values()))\n",
    "    \n",
    "    print('Ranked: {}'.format(len(topic_ranks)))\n",
    "    print('Classified: {}'.format(len(topic_interests)))\n",
    "    print('Unique: {}'.format(len(topics)))\n",
    "    print('No match: {}'.format(no_match))\n",
    "    \n",
    "    return topics"
   ]
  },
  {
   "cell_type": "code",
   "execution_count": 6,
   "metadata": {},
   "outputs": [],
   "source": [
    "class AvalinguoRoom:\n",
    "    def __init__(self):\n",
    "        self.users = list()\n",
    "        self._interests = None\n",
    "    \n",
    "    def addUser(self, pers):\n",
    "        if self._interests is None:\n",
    "            shape = np.shape(pers.interests)\n",
    "            self._interests = np.zeros(shape)\n",
    "        \n",
    "        self.users.append(pers)\n",
    "        self._interests += pers.interests\n",
    "        \n",
    "    @property\n",
    "    def interests(self):\n",
    "        return self._interests / len(self.users)"
   ]
  },
  {
   "cell_type": "code",
   "execution_count": 101,
   "metadata": {},
   "outputs": [],
   "source": [
    "def distance(v1, v2):\n",
    "    if len(np.shape(v1)) > 1: \n",
    "        return np.sqrt(np.sum((v1 - v2) ** 2, 1))\n",
    "    return np.sqrt(np.sum((v1 - v2) ** 2))\n",
    "\n",
    "def comb(dist, pop):\n",
    "    n = len(dist)\n",
    "    dist = np.reshape(dist, (n, 1))\n",
    "    pop = np.reshape(pop, (n, 1))\n",
    "    tmp = np.concatenate((dist, pop), axis=1)\n",
    "    W = np.array([[1.5], [2]])\n",
    "    \n",
    "    return tmp.dot(W).flatten()\n",
    "\n",
    "def reccomend(group, topics, n):\n",
    "    ints = np.array([t.interest for t in topics])\n",
    "    dist = distance(ints, group.interests)\n",
    "    pop = np.array([t.popularity for t in topics])\n",
    "    \n",
    "    weight = comb(dist, pop)\n",
    "    \n",
    "    rec = np.argpartition(weight, -n)[-n:]\n",
    "    return rec, weight\n",
    "\n",
    "def make_rooms(n_rooms, room_size, persons):\n",
    "    # Initialize tensors\n",
    "    rooms = [AvalinguoRoom() for i in range(n_rooms)]\n",
    "    interests = np.array([p.interests for p in persons])\n",
    "    \n",
    "    # Calculate group means\n",
    "    distances = KMeans(n_clusters=n_rooms, random_state=0).fit_transform(interests)\n",
    "        \n",
    "    # Label each person\n",
    "    labels = np.argmin(distances, 1)\n",
    "    \n",
    "    # Group persons by room\n",
    "    members = [np.nonzero(labels == i) for i in range(n_rooms)]\n",
    "    \n",
    "    # Make each group\n",
    "    for i in range(n_rooms):\n",
    "        # Calculate closest members to group center\n",
    "        distance = distances[members[i], labels[members[i]]].flatten()        \n",
    "        closest = np.argpartition(distance, -room_size)[-room_size:]\n",
    "                \n",
    "        # Add selected persons to room\n",
    "        for c in closest:\n",
    "            rooms[i].addUser(persons[c])\n",
    "    \n",
    "    return rooms\n",
    "\n",
    "def experiment(persons, rooms, topics):\n",
    "    n_rooms = len(rooms)\n",
    "    interests = np.array([p.interests for p in persons])\n",
    "    \n",
    "    avg_interests = np.mean(interests, 0)\n",
    "    \n",
    "    d_group = np.zeros(n_rooms)\n",
    "    d_int_mean = np.zeros(n_rooms)\n",
    "    d_int_std = np.zeros(n_rooms)\n",
    "    \n",
    "    #getting recommendations and calculating mean distance\n",
    "    for r, room in enumerate(rooms):        \n",
    "        rec, dist = reccomend(room, topics, 5)\n",
    "        \n",
    "        rec_vec = np.array([topics[r].interest for r in rec])\n",
    "        \n",
    "        mean_rec = np.mean(rec_vec, 0)\n",
    "        \n",
    "        users_matrix = np.array([p.interests for p in room.users])\n",
    "\n",
    "        d_interest = distance(users_matrix, mean_rec)\n",
    "        \n",
    "        d_group[r] = distance(room.interests, avg_interests)\n",
    "        d_int_mean[r] = np.mean(d_interest)\n",
    "        d_int_std[r] = np.std(d_interest)\n",
    "\n",
    "    return d_group, d_int_mean, d_int_std"
   ]
  },
  {
   "cell_type": "code",
   "execution_count": 99,
   "metadata": {},
   "outputs": [],
   "source": [
    "with open('interests-tree-nested.json') as tree:\n",
    "    interest_parser = InterestsParser(json.loads(tree.read()))\n",
    "\n",
    "with open('synthtetic_dataset.lg') as dataset_file:\n",
    "    raw_data = dataset_file.read()\n",
    "    \n",
    "with open('normalizedRanks.json') as topic_ranks_json:\n",
    "    topic_ranks = json.loads(topic_ranks_json.read())\n",
    "\n",
    "with open('first.json') as topic_interests_json:\n",
    "    topic_interests = json.loads(topic_interests_json.read())\n",
    "\n",
    "lines = raw_data.split('\\n')\n",
    "\n",
    "headers = lines[0:4]\n",
    "body = lines[5:-1]"
   ]
  },
  {
   "cell_type": "code",
   "execution_count": 9,
   "metadata": {},
   "outputs": [
    {
     "name": "stdout",
     "output_type": "stream",
     "text": [
      "Ranked: 474\n",
      "Classified: 123\n",
      "Unique: 89\n",
      "No match: 12\n"
     ]
    }
   ],
   "source": [
    "persons = [parse_person(p, interest_parser) for p in body]\n",
    "topics = parse_topics(topic_ranks, topic_interests)"
   ]
  },
  {
   "cell_type": "code",
   "execution_count": 86,
   "metadata": {},
   "outputs": [],
   "source": [
    "rooms = make_rooms(100, 4, persons)"
   ]
  },
  {
   "cell_type": "code",
   "execution_count": 107,
   "metadata": {},
   "outputs": [],
   "source": [
    "group, mean, std = experiment(persons, rooms, topics)\n",
    "\n",
    "sort = np.argsort(group)"
   ]
  },
  {
   "cell_type": "code",
   "execution_count": 109,
   "metadata": {},
   "outputs": [
    {
     "data": {
      "text/plain": [
       "[<matplotlib.lines.Line2D at 0x7fed91631e48>]"
      ]
     },
     "execution_count": 109,
     "metadata": {},
     "output_type": "execute_result"
    },
    {
     "data": {
      "image/png": "[encoded data removed]",
      "text/plain": [
       "<Figure size 432x288 with 1 Axes>"
      ]
     },
     "metadata": {
      "needs_background": "light"
     },
     "output_type": "display_data"
    }
   ],
   "source": [
    "x = group[sort]\n",
    "y_mean = mean[sort]\n",
    "y_plus_std = (mean - std)[sort]\n",
    "y_minus_std = (mean + std)[sort]\n",
    "\n",
    "plt.plot(x, y_mean)\n",
    "plt.plot(x, y_plus_std)\n",
    "plt.plot(x, y_minus_std)"
   ]
  },
  {
   "cell_type": "code",
   "execution_count": null,
   "metadata": {},
   "outputs": [],
   "source": []
  }
 ],
 "metadata": {
  "kernelspec": {
   "display_name": "Python 3",
   "language": "python",
   "name": "python3"
  },
  "language_info": {
   "codemirror_mode": {
    "name": "ipython",
    "version": 3
   },
   "file_extension": ".py",
   "mimetype": "text/x-python",
   "name": "python",
   "nbconvert_exporter": "python",
   "pygments_lexer": "ipython3",
   "version": "3.6.6"
  }
 },
 "nbformat": 4,
 "nbformat_minor": 2
}
